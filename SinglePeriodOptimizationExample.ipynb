{
 "cells": [
  {
   "cell_type": "code",
   "execution_count": 1,
   "metadata": {
    "collapsed": false
   },
   "outputs": [],
   "source": [
    "%load_ext autoreload\n",
    "%autoreload 2\n",
    "%matplotlib inline\n",
    "\n",
    "import pandas as pd\n",
    "import numpy as np\n",
    "import matplotlib.pyplot as plt\n",
    "\n",
    "from cvx_portfolio.costs import TcostModel\n",
    "from cvx_portfolio.returns import MarketReturns, AlphaSource\n",
    "from cvx_portfolio.simulator import MarketSimulator\n",
    "from cvx_portfolio.policies import SinglePeriodOpt, Hold\n",
    "from cvx_portfolio.data import generate_alpha_signal, series_factor_model_covariance\n",
    "from cvx_portfolio.risks import EmpSigma, FactorModelSigma\n",
    "from cvx_portfolio.constraints import LeverageLimit  \n",
    "\n",
    "\n",
    "plotdir = '../portfolio/plots/'\n",
    "datadir= '../equity_data_tool/'"
   ]
  },
  {
   "cell_type": "markdown",
   "metadata": {},
   "source": [
    "## Download data using ee103 code (to be integrated) "
   ]
  },
  {
   "cell_type": "code",
   "execution_count": 2,
   "metadata": {
    "collapsed": false
   },
   "outputs": [],
   "source": [
    "sigmas=pd.read_csv(datadir+'sigmas.txt',index_col=0,parse_dates=[0])\n",
    "returns=pd.read_csv(datadir+'returns.txt',index_col=0,parse_dates=[0])\n",
    "volumes=pd.read_csv(datadir+'volumes.txt',index_col=0,parse_dates=[0])\n",
    "prices=pd.read_csv(datadir+'prices.txt',index_col=0,parse_dates=[0])"
   ]
  },
  {
   "cell_type": "code",
   "execution_count": 3,
   "metadata": {
    "collapsed": false
   },
   "outputs": [
    {
     "name": "stderr",
     "output_type": "stream",
     "text": [
      "/home/enzo/repos/cvx_portfolio/cvx_portfolio/data/generator.py:30: RuntimeWarning: overflow encountered in exp\n",
      "  sig*ex*np.concatenate([[0],np.cumsum(np.sqrt(np.diff(np.exp(2*th*t)-1))*np.random.randn(len(t)-1))])\n",
      "/home/enzo/anaconda3/lib/python3.5/site-packages/numpy/lib/function_base.py:1578: RuntimeWarning: invalid value encountered in subtract\n",
      "  return a[slice1]-a[slice2]\n"
     ]
    }
   ],
   "source": [
    "np.random.seed(1)\n",
    "alpha_signal=generate_alpha_signal(real_returns=returns, IC=0.10, type_noise='OU')\n",
    "alpha_signal = 0.01 * alpha_signal\n",
    "alpha_signal.USDOLLAR = returns.USDOLLAR\n",
    "\n",
    "alpha_model = AlphaSource(alpha_signal)\n",
    "#alpha_model = AlphaSource(0.0001 * alpha_signal)"
   ]
  },
  {
   "cell_type": "markdown",
   "metadata": {},
   "source": [
    "### Compute factor risk model "
   ]
  },
  {
   "cell_type": "code",
   "execution_count": 4,
   "metadata": {
    "collapsed": true
   },
   "outputs": [],
   "source": [
    "exposures_pan, factor_sigma_pan, idyos_df = series_factor_model_covariance(returns, nfact=10, freq='MS',\n",
    "                                    lookback_periods = 12)\n",
    "\n",
    "#risk_model = EmpSigma(returns, lookback=500)\n",
    "risk_model = FactorModelSigma(exposures_pan, factor_sigma_pan, idyos_df)"
   ]
  },
  {
   "cell_type": "markdown",
   "metadata": {},
   "source": [
    "### Transaction costs model"
   ]
  },
  {
   "cell_type": "code",
   "execution_count": 5,
   "metadata": {
    "collapsed": true
   },
   "outputs": [],
   "source": [
    "del volumes['USDOLLAR']\n",
    "del sigmas['USDOLLAR']\n",
    "\n",
    "spread = pd.DataFrame(data=5e-4, index=volumes.index, columns=volumes.columns)\n",
    "nonlin_coeff = pd.DataFrame(data=1, index=volumes.index, columns=volumes.columns)\n",
    "simulated_tcost = TcostModel(volumes, sigmas, spread, nonlin_coeff, cash_key='USDOLLAR')"
   ]
  },
  {
   "cell_type": "markdown",
   "metadata": {},
   "source": [
    "## Market simulator "
   ]
  },
  {
   "cell_type": "code",
   "execution_count": 6,
   "metadata": {
    "collapsed": false
   },
   "outputs": [],
   "source": [
    "simulator = MarketSimulator(MarketReturns(returns), volumes, [simulated_tcost], cash_key='USDOLLAR')"
   ]
  },
  {
   "cell_type": "markdown",
   "metadata": {},
   "source": [
    "## Portfolio"
   ]
  },
  {
   "cell_type": "code",
   "execution_count": 7,
   "metadata": {
    "collapsed": false
   },
   "outputs": [],
   "source": [
    "p = pd.Series(index=returns.columns, data=1)/len(returns.columns)\n",
    "weights=p/sum(p)\n",
    "p_0 = 1E8*p"
   ]
  },
  {
   "cell_type": "markdown",
   "metadata": {},
   "source": [
    "## Policy"
   ]
  },
  {
   "cell_type": "code",
   "execution_count": 8,
   "metadata": {
    "collapsed": false
   },
   "outputs": [
    {
     "data": {
      "text/plain": [
       "[0.0, 40.0, 45.0, 50.0]"
      ]
     },
     "execution_count": 8,
     "metadata": {},
     "output_type": "execute_result"
    }
   ],
   "source": [
    "# larger than .4 we almost don't trade.\n",
    "gamma_tcosts = [0., 40., 45., 50.]\n",
    "gamma_tcosts"
   ]
  },
  {
   "cell_type": "code",
   "execution_count": 9,
   "metadata": {
    "collapsed": false
   },
   "outputs": [
    {
     "data": {
      "text/plain": [
       "[0.0, 0.5, 1.0, 10.0]"
      ]
     },
     "execution_count": 9,
     "metadata": {},
     "output_type": "execute_result"
    }
   ],
   "source": [
    "# values smaller than .3 give basically same result as with 0. \n",
    "#gamma_risks = np.logspace(-.5,1,3)\n",
    "gamma_risks = [0., .5, 1., 10.] \n",
    "gamma_risks"
   ]
  },
  {
   "cell_type": "code",
   "execution_count": null,
   "metadata": {
    "collapsed": false
   },
   "outputs": [],
   "source": [
    "policies={}\n",
    "for gamma_risk in gamma_risks:\n",
    "    for gamma_tcost in gamma_tcosts:\n",
    "        policies[(gamma_risk, gamma_tcost)] = \\\n",
    "                SinglePeriodOpt(alpha_model, [gamma_risk*risk_model, gamma_tcost*simulated_tcost], [LeverageLimit(3)])"
   ]
  },
  {
   "cell_type": "markdown",
   "metadata": {},
   "source": [
    "## Simulations"
   ]
  },
  {
   "cell_type": "code",
   "execution_count": null,
   "metadata": {
    "collapsed": false
   },
   "outputs": [
    {
     "name": "stderr",
     "output_type": "stream",
     "text": [
      "WARNING:root:Setting stocks Index(['EQIX'], dtype='object') on 2014-09-25 00:00:00 to null trades (because market volumes are 0)\n",
      "WARNING:root:Setting stocks Index(['EQIX'], dtype='object') on 2014-09-26 00:00:00 to null trades (because market volumes are 0)\n",
      "WARNING:root:Setting stocks Index(['EQIX'], dtype='object') on 2014-09-29 00:00:00 to null trades (because market volumes are 0)\n",
      "WARNING:root:Setting stocks Index(['EQIX'], dtype='object') on 2014-09-30 00:00:00 to null trades (because market volumes are 0)\n",
      "WARNING:root:Setting stocks Index(['EQIX'], dtype='object') on 2014-10-01 00:00:00 to null trades (because market volumes are 0)\n",
      "WARNING:root:Setting stocks Index(['EQIX'], dtype='object') on 2014-10-02 00:00:00 to null trades (because market volumes are 0)\n",
      "WARNING:root:Setting stocks Index(['EQIX'], dtype='object') on 2014-10-03 00:00:00 to null trades (because market volumes are 0)\n",
      "WARNING:root:Setting stocks Index(['EQIX'], dtype='object') on 2014-10-06 00:00:00 to null trades (because market volumes are 0)\n",
      "WARNING:root:Setting stocks Index(['EQIX'], dtype='object') on 2014-10-07 00:00:00 to null trades (because market volumes are 0)\n",
      "WARNING:root:Setting stocks Index(['EQIX'], dtype='object') on 2014-10-08 00:00:00 to null trades (because market volumes are 0)\n",
      "WARNING:root:Setting stocks Index(['EQIX'], dtype='object') on 2014-10-09 00:00:00 to null trades (because market volumes are 0)\n",
      "WARNING:root:Setting stocks Index(['EQIX'], dtype='object') on 2014-10-10 00:00:00 to null trades (because market volumes are 0)\n",
      "WARNING:root:Setting stocks Index(['EQIX'], dtype='object') on 2014-10-13 00:00:00 to null trades (because market volumes are 0)\n",
      "WARNING:root:Setting stocks Index(['EQIX'], dtype='object') on 2014-10-14 00:00:00 to null trades (because market volumes are 0)\n",
      "WARNING:root:Setting stocks Index(['EQIX'], dtype='object') on 2014-10-15 00:00:00 to null trades (because market volumes are 0)\n",
      "WARNING:root:Setting stocks Index(['EQIX'], dtype='object') on 2014-10-16 00:00:00 to null trades (because market volumes are 0)\n",
      "WARNING:root:Setting stocks Index(['EQIX'], dtype='object') on 2014-10-17 00:00:00 to null trades (because market volumes are 0)\n",
      "WARNING:root:Setting stocks Index(['EQIX'], dtype='object') on 2014-10-20 00:00:00 to null trades (because market volumes are 0)\n",
      "WARNING:root:Setting stocks Index(['EQIX'], dtype='object') on 2014-10-21 00:00:00 to null trades (because market volumes are 0)\n",
      "WARNING:root:Setting stocks Index(['EQIX'], dtype='object') on 2014-09-25 00:00:00 to null trades (because market volumes are 0)\n",
      "WARNING:root:Setting stocks Index(['EQIX'], dtype='object') on 2014-09-26 00:00:00 to null trades (because market volumes are 0)\n",
      "WARNING:root:Setting stocks Index(['EQIX'], dtype='object') on 2014-09-29 00:00:00 to null trades (because market volumes are 0)\n",
      "WARNING:root:Setting stocks Index(['EQIX'], dtype='object') on 2014-09-30 00:00:00 to null trades (because market volumes are 0)\n",
      "WARNING:root:Setting stocks Index(['EQIX'], dtype='object') on 2014-10-01 00:00:00 to null trades (because market volumes are 0)\n",
      "WARNING:root:Setting stocks Index(['EQIX'], dtype='object') on 2014-10-02 00:00:00 to null trades (because market volumes are 0)\n",
      "WARNING:root:Setting stocks Index(['EQIX'], dtype='object') on 2014-10-03 00:00:00 to null trades (because market volumes are 0)\n",
      "WARNING:root:Setting stocks Index(['EQIX'], dtype='object') on 2014-10-06 00:00:00 to null trades (because market volumes are 0)\n",
      "WARNING:root:Setting stocks Index(['EQIX'], dtype='object') on 2014-10-07 00:00:00 to null trades (because market volumes are 0)\n",
      "WARNING:root:Setting stocks Index(['EQIX'], dtype='object') on 2014-10-08 00:00:00 to null trades (because market volumes are 0)\n",
      "WARNING:root:Setting stocks Index(['EQIX'], dtype='object') on 2014-10-09 00:00:00 to null trades (because market volumes are 0)\n",
      "WARNING:root:Setting stocks Index(['EQIX'], dtype='object') on 2014-10-10 00:00:00 to null trades (because market volumes are 0)\n",
      "WARNING:root:Setting stocks Index(['EQIX'], dtype='object') on 2014-09-25 00:00:00 to null trades (because market volumes are 0)\n",
      "WARNING:root:Setting stocks Index(['EQIX'], dtype='object') on 2014-10-13 00:00:00 to null trades (because market volumes are 0)\n",
      "WARNING:root:Setting stocks Index(['EQIX'], dtype='object') on 2014-09-26 00:00:00 to null trades (because market volumes are 0)\n",
      "WARNING:root:Setting stocks Index(['EQIX'], dtype='object') on 2014-10-14 00:00:00 to null trades (because market volumes are 0)\n",
      "WARNING:root:Setting stocks Index(['EQIX'], dtype='object') on 2014-09-29 00:00:00 to null trades (because market volumes are 0)\n",
      "WARNING:root:Setting stocks Index(['EQIX'], dtype='object') on 2014-10-15 00:00:00 to null trades (because market volumes are 0)\n",
      "WARNING:root:Setting stocks Index(['EQIX'], dtype='object') on 2014-09-30 00:00:00 to null trades (because market volumes are 0)\n",
      "WARNING:root:Setting stocks Index(['EQIX'], dtype='object') on 2014-10-16 00:00:00 to null trades (because market volumes are 0)\n",
      "WARNING:root:Setting stocks Index(['EQIX'], dtype='object') on 2014-10-01 00:00:00 to null trades (because market volumes are 0)\n",
      "WARNING:root:Setting stocks Index(['EQIX'], dtype='object') on 2014-10-17 00:00:00 to null trades (because market volumes are 0)\n",
      "WARNING:root:Setting stocks Index(['EQIX'], dtype='object') on 2014-10-02 00:00:00 to null trades (because market volumes are 0)\n",
      "WARNING:root:Setting stocks Index(['EQIX'], dtype='object') on 2014-10-20 00:00:00 to null trades (because market volumes are 0)\n",
      "WARNING:root:Setting stocks Index(['EQIX'], dtype='object') on 2014-10-03 00:00:00 to null trades (because market volumes are 0)\n",
      "WARNING:root:Setting stocks Index(['EQIX'], dtype='object') on 2014-10-21 00:00:00 to null trades (because market volumes are 0)\n",
      "WARNING:root:Setting stocks Index(['EQIX'], dtype='object') on 2014-10-06 00:00:00 to null trades (because market volumes are 0)\n",
      "WARNING:root:Setting stocks Index(['EQIX'], dtype='object') on 2014-10-07 00:00:00 to null trades (because market volumes are 0)\n",
      "WARNING:root:Setting stocks Index(['EQIX'], dtype='object') on 2014-10-08 00:00:00 to null trades (because market volumes are 0)\n",
      "WARNING:root:Setting stocks Index(['EQIX'], dtype='object') on 2014-10-09 00:00:00 to null trades (because market volumes are 0)\n",
      "WARNING:root:Setting stocks Index(['EQIX'], dtype='object') on 2014-10-10 00:00:00 to null trades (because market volumes are 0)\n",
      "WARNING:root:Setting stocks Index(['EQIX'], dtype='object') on 2014-10-13 00:00:00 to null trades (because market volumes are 0)\n",
      "WARNING:root:Setting stocks Index(['EQIX'], dtype='object') on 2014-10-14 00:00:00 to null trades (because market volumes are 0)\n",
      "WARNING:root:Setting stocks Index(['EQIX'], dtype='object') on 2014-10-15 00:00:00 to null trades (because market volumes are 0)\n",
      "WARNING:root:Setting stocks Index(['EQIX'], dtype='object') on 2014-10-16 00:00:00 to null trades (because market volumes are 0)\n",
      "WARNING:root:Setting stocks Index(['EQIX'], dtype='object') on 2014-09-25 00:00:00 to null trades (because market volumes are 0)\n",
      "WARNING:root:Setting stocks Index(['EQIX'], dtype='object') on 2014-10-17 00:00:00 to null trades (because market volumes are 0)\n",
      "WARNING:root:Setting stocks Index(['EQIX'], dtype='object') on 2014-09-26 00:00:00 to null trades (because market volumes are 0)\n",
      "WARNING:root:Setting stocks Index(['EQIX'], dtype='object') on 2014-10-20 00:00:00 to null trades (because market volumes are 0)\n",
      "WARNING:root:Setting stocks Index(['EQIX'], dtype='object') on 2014-09-29 00:00:00 to null trades (because market volumes are 0)\n",
      "WARNING:root:Setting stocks Index(['EQIX'], dtype='object') on 2014-10-21 00:00:00 to null trades (because market volumes are 0)\n",
      "WARNING:root:Setting stocks Index(['EQIX'], dtype='object') on 2014-09-30 00:00:00 to null trades (because market volumes are 0)\n",
      "WARNING:root:Setting stocks Index(['EQIX'], dtype='object') on 2014-10-01 00:00:00 to null trades (because market volumes are 0)\n",
      "WARNING:root:Setting stocks Index(['EQIX'], dtype='object') on 2014-10-02 00:00:00 to null trades (because market volumes are 0)\n",
      "WARNING:root:Setting stocks Index(['EQIX'], dtype='object') on 2014-10-03 00:00:00 to null trades (because market volumes are 0)\n",
      "WARNING:root:Setting stocks Index(['EQIX'], dtype='object') on 2014-10-06 00:00:00 to null trades (because market volumes are 0)\n",
      "WARNING:root:Setting stocks Index(['EQIX'], dtype='object') on 2014-10-07 00:00:00 to null trades (because market volumes are 0)\n",
      "WARNING:root:Setting stocks Index(['EQIX'], dtype='object') on 2014-10-08 00:00:00 to null trades (because market volumes are 0)\n",
      "WARNING:root:Setting stocks Index(['EQIX'], dtype='object') on 2014-10-09 00:00:00 to null trades (because market volumes are 0)\n",
      "WARNING:root:Setting stocks Index(['EQIX'], dtype='object') on 2014-10-10 00:00:00 to null trades (because market volumes are 0)\n",
      "WARNING:root:Setting stocks Index(['EQIX'], dtype='object') on 2014-10-13 00:00:00 to null trades (because market volumes are 0)\n",
      "WARNING:root:Setting stocks Index(['EQIX'], dtype='object') on 2014-10-14 00:00:00 to null trades (because market volumes are 0)\n",
      "WARNING:root:Setting stocks Index(['EQIX'], dtype='object') on 2014-10-15 00:00:00 to null trades (because market volumes are 0)\n",
      "WARNING:root:Setting stocks Index(['EQIX'], dtype='object') on 2014-10-16 00:00:00 to null trades (because market volumes are 0)\n",
      "WARNING:root:Setting stocks Index(['EQIX'], dtype='object') on 2014-10-17 00:00:00 to null trades (because market volumes are 0)\n",
      "WARNING:root:Setting stocks Index(['EQIX'], dtype='object') on 2014-10-20 00:00:00 to null trades (because market volumes are 0)\n",
      "WARNING:root:Setting stocks Index(['EQIX'], dtype='object') on 2014-10-21 00:00:00 to null trades (because market volumes are 0)\n"
     ]
    }
   ],
   "source": [
    "five_years=returns.index[(returns.index>\"2012-01-01\")] # \"2012-01-01\"\n",
    "results_raw = simulator.run_multiple_backtest(p_0, five_years, policies=policies.values(), parallel=True)\n",
    "results=dict(zip(policies.keys(), results_raw))"
   ]
  },
  {
   "cell_type": "code",
   "execution_count": null,
   "metadata": {
    "collapsed": false
   },
   "outputs": [],
   "source": [
    "result_df=pd.DataFrame()\n",
    "for k in results:\n",
    "    result_df.loc[k[0], k[1]] = results[k]\n",
    "result_df.index.name = 'gamma_risk'\n",
    "result_df.columns.name = 'gamma_tcost'\n",
    "result_df = result_df.reindex(index=sorted(result_df.index),columns=sorted(result_df.columns))"
   ]
  },
  {
   "cell_type": "code",
   "execution_count": null,
   "metadata": {
    "collapsed": false,
    "scrolled": false
   },
   "outputs": [],
   "source": [
    "plt.figure(figsize=(8,5))\n",
    "for gamma_tcost in gamma_tcosts[1:]:\n",
    "    #plt.figure()\n",
    "    x = [result_df.loc[(i, gamma_tcost)].volatility for i in gamma_risks]\n",
    "    y = [result_df.loc[(i, gamma_tcost)].mean_return for i in gamma_risks]\n",
    "    plt.plot(np.array(x),np.array(y), '.-', label='$\\gamma^{trade} = %.2f$'%gamma_tcost)\n",
    "plt.legend(loc='upper left')\n",
    "plt.xlabel('Annualized volatility')\n",
    "plt.ylabel('Annualized average return')\n",
    "plt.savefig(plotdir+'spo_riskrewardfrontier.png')"
   ]
  },
  {
   "cell_type": "code",
   "execution_count": null,
   "metadata": {
    "collapsed": false
   },
   "outputs": [],
   "source": [
    "init_val = 100E6\n",
    "plt.figure(figsize=(8,5))\n",
    "for gamma_tcost in gamma_tcosts[1:]:\n",
    "    #plt.figure()\n",
    "    x = [100*result_df.loc[(i, gamma_tcost)].simulator_TcostModel.sum().sum()/init_val for i in gamma_risks]\n",
    "    y = [100*result_df.loc[(i, gamma_tcost)].profit/init_val for i in gamma_risks]\n",
    "    plt.plot(np.array(x),np.array(y), '.-', label='$\\gamma^{trade} = %.2f$'%gamma_tcost)\n",
    "plt.legend(loc='upper right')\n",
    "plt.xlabel(\"Simulated t. costs (%)\")\n",
    "plt.ylabel(\"Simulated profit (%)\")\n",
    "plt.savefig(plotdir+'spo_profittcost.png')"
   ]
  },
  {
   "cell_type": "code",
   "execution_count": null,
   "metadata": {
    "collapsed": false
   },
   "outputs": [],
   "source": [
    "plt.figure(figsize=(8,5))\n",
    "for gamma_tcost in gamma_tcosts[:1]:\n",
    "    #plt.figure()\n",
    "    x = [result_df.loc[(i, gamma_tcost)].volatility for i in gamma_risks]\n",
    "    y = [result_df.loc[(i, gamma_tcost)].mean_return for i in gamma_risks]\n",
    "    plt.plot(np.array(x),np.array(y), '.-', label='$\\gamma^{trade} = %.2f$'%gamma_tcost)\n",
    "#plt.legend(loc='upper left')\n",
    "plt.xlabel('Annualized volatility')\n",
    "plt.ylabel('Annualized average return')\n",
    "plt.title('Return vs. volatility SPO without transaction cost')\n",
    "plt.savefig(plotdir+'spo_zerotcost_riskrewardfrontier.png')"
   ]
  },
  {
   "cell_type": "code",
   "execution_count": null,
   "metadata": {
    "collapsed": false
   },
   "outputs": [],
   "source": [
    "result_df.applymap(lambda x: x.sharpe_ratio)"
   ]
  },
  {
   "cell_type": "code",
   "execution_count": null,
   "metadata": {
    "collapsed": false
   },
   "outputs": [],
   "source": [
    "for i in range(4):\n",
    "    gamma_tcost = gamma_tcosts[i]\n",
    "    plt.figure(figsize=(10,5))\n",
    "    [(results[(i, gamma_tcost)].v/1E6).plot(label='$\\gamma^{risk} = %.2f$'%i) for i in gamma_risks]\n",
    "    plt.legend(loc='upper right' if i==0 else 'upper left')\n",
    "    plt.ylabel('portfolio value (\\$M)')\n",
    "    plt.title('Portfolio value over time for $\\gamma^{trade} = %.2f$'%gamma_tcost)\n",
    "    plt.savefig(plotdir+'spo_valueintime_gammatrade%d.png'%i)"
   ]
  },
  {
   "cell_type": "markdown",
   "metadata": {},
   "source": [
    "## Other diagnostics"
   ]
  },
  {
   "cell_type": "code",
   "execution_count": null,
   "metadata": {
    "collapsed": false
   },
   "outputs": [],
   "source": [
    "[(np.sqrt(250)*np.sqrt(results[(i, gamma_tcosts[2])].policy_FactorModelSigma)).plot() for i in gamma_risks]\n",
    "gamma_risks, gamma_tcosts[2]"
   ]
  },
  {
   "cell_type": "code",
   "execution_count": null,
   "metadata": {
    "collapsed": false
   },
   "outputs": [],
   "source": [
    "[results[(i, gamma_tcosts[0])].leverage.plot() for i in gamma_risks]\n",
    "gamma_risks, gamma_tcosts[0]"
   ]
  },
  {
   "cell_type": "code",
   "execution_count": null,
   "metadata": {
    "collapsed": false
   },
   "outputs": [],
   "source": [
    "[results[(i, gamma_tcosts[1])].leverage.plot() for i in gamma_risks]\n",
    "gamma_risks, gamma_tcosts[1]"
   ]
  },
  {
   "cell_type": "code",
   "execution_count": null,
   "metadata": {
    "collapsed": false
   },
   "outputs": [],
   "source": [
    "[results[(i, gamma_tcosts[2])].leverage.plot() for i in gamma_risks]\n",
    "gamma_risks, gamma_tcosts[2]"
   ]
  },
  {
   "cell_type": "code",
   "execution_count": null,
   "metadata": {
    "collapsed": false
   },
   "outputs": [],
   "source": [
    "[results[(i, gamma_tcosts[2])].w.USDOLLAR.plot() for i in gamma_risks]\n",
    "gamma_risks, gamma_tcosts[2]"
   ]
  },
  {
   "cell_type": "code",
   "execution_count": null,
   "metadata": {
    "collapsed": false
   },
   "outputs": [],
   "source": [
    "[results[(i, gamma_tcosts[2])].turnover.plot() for i in gamma_risks]\n",
    "gamma_risks, gamma_tcosts[2]"
   ]
  },
  {
   "cell_type": "code",
   "execution_count": null,
   "metadata": {
    "collapsed": false
   },
   "outputs": [],
   "source": [
    "res.turnover.plot()\n",
    "res.policy_TcostModel.sum(1).plot(secondary_y=True)"
   ]
  },
  {
   "cell_type": "code",
   "execution_count": null,
   "metadata": {
    "collapsed": false
   },
   "outputs": [],
   "source": [
    "res.policy_TcostModel.sum(1).plot()\n",
    "res.simulator_TcostModel.sum(1).plot(secondary_y=True)"
   ]
  },
  {
   "cell_type": "code",
   "execution_count": null,
   "metadata": {
    "collapsed": false
   },
   "outputs": [],
   "source": [
    "(res.policy_TcostModel.sum(1)).tail(100).plot(style='.-')\n",
    "(res.simulator_TcostModel.sum(1)/res.v).tail(100).plot(style='.-')"
   ]
  }
 ],
 "metadata": {
  "anaconda-cloud": {},
  "kernelspec": {
   "display_name": "Python [conda root]",
   "language": "python",
   "name": "conda-root-py"
  },
  "language_info": {
   "codemirror_mode": {
    "name": "ipython",
    "version": 3
   },
   "file_extension": ".py",
   "mimetype": "text/x-python",
   "name": "python",
   "nbconvert_exporter": "python",
   "pygments_lexer": "ipython3",
   "version": "3.5.2"
  }
 },
 "nbformat": 4,
 "nbformat_minor": 2
}
